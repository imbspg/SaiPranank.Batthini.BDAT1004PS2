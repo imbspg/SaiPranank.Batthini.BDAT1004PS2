{
 "cells": [
  {
   "cell_type": "markdown",
   "id": "b3ead17e",
   "metadata": {},
   "source": [
    "# Q1) What value is displayed when the last expression (a) is evaluated?"
   ]
  },
  {
   "cell_type": "code",
   "execution_count": 10,
   "id": "4074e7d9",
   "metadata": {},
   "outputs": [
    {
     "data": {
      "text/plain": [
       "6"
      ]
     },
     "execution_count": 10,
     "metadata": {},
     "output_type": "execute_result"
    }
   ],
   "source": [
    "a = 0\n",
    "\n",
    "def b():\n",
    "    global a\n",
    "    a = c(a)\n",
    "\n",
    "def c(a):\n",
    "    return a+2\n",
    "\n",
    "b()\n",
    "b()\n",
    "b()\n",
    "a\n",
    "\n",
    "##Answer: Thw value of A is \"6\". This happned because, the value of  a is initially set to 0. However, def b() contains the global variable\n",
    "##hence, when the statement calls the def b(), the statement returns the value a+2. Hence, b() is called three time,\n",
    "## hence value changed from 2 to 4 and then to 6. Hence, the final answer is \"6\""
   ]
  },
  {
   "cell_type": "markdown",
   "id": "103a842a",
   "metadata": {},
   "source": [
    "# Q2) Function fileLength(), given to you, takes the name of a file as input and returns the length of the file"
   ]
  },
  {
   "cell_type": "code",
   "execution_count": 17,
   "id": "4e592f90",
   "metadata": {},
   "outputs": [
    {
     "name": "stdout",
     "output_type": "stream",
     "text": [
      "759\n",
      "File idterm.py not found\n"
     ]
    }
   ],
   "source": [
    "import os.path\n",
    "\n",
    "def file_length(file_name):\n",
    "    if os.path.isfile (file_name):\n",
    "        file = open(file_name)\n",
    "        contents = file.read()\n",
    "        file.close()\n",
    "        print(len(contents))\n",
    "    else:\n",
    "        print(\"File \" + str(file_name) +\" not found\")\n",
    "file_length(\"midterm.py\")\n",
    "file_length(\"idterm.py\")"
   ]
  },
  {
   "cell_type": "markdown",
   "id": "ffe44f20",
   "metadata": {},
   "source": [
    "# Q3) Write a class named Marsupial that can be used as shown below"
   ]
  },
  {
   "cell_type": "code",
   "execution_count": 9,
   "id": "c9cd66d0",
   "metadata": {},
   "outputs": [
    {
     "name": "stdout",
     "output_type": "stream",
     "text": [
      "I am Kangaroo loacted at coordinates (0,0)\n",
      "['doll', 'firetruck', 'kitten']\n",
      "I am Kangaroo loacted at coordinates (3,0)\n"
     ]
    }
   ],
   "source": [
    "class Marsupial:\n",
    "    def __init__(self):\n",
    "        self.arr=[]\n",
    "    def put_in_pouch(self,x):\n",
    "        self.arr.append(x)\n",
    "    def pouch_contents(self):\n",
    "        print(self.arr)\n",
    "\n",
    "class Kangaroo(Marsupial):\n",
    "    def __init__(self,x_coords,y_coords):\n",
    "        super().__init__()\n",
    "        self.x=x_coords\n",
    "        self.y=y_coords\n",
    "    def jump(self,dx,dy):\n",
    "        self.x+=dx\n",
    "        self.y+=dy\n",
    "    def __str__(self):\n",
    "        return \"I am Kangaroo loacted at coordinates ({0},{1})\".format(self.x,self.y)\n",
    "\n",
    "k = Kangaroo(0,0)\n",
    "print(k)\n",
    "k.put_in_pouch('doll')\n",
    "k.put_in_pouch('firetruck')\n",
    "k.put_in_pouch('kitten')\n",
    "k.pouch_contents()\n",
    "k.jump(1,0)\n",
    "k.jump(1,0)\n",
    "k.jump(1,0)\n",
    "print(k)"
   ]
  },
  {
   "cell_type": "markdown",
   "id": "96f63c86",
   "metadata": {},
   "source": [
    "# Q4) Write function collatz() that takes a positive integer x as input and prints the Collatz sequence starting at x."
   ]
  },
  {
   "cell_type": "code",
   "execution_count": 2,
   "id": "70d64c28",
   "metadata": {},
   "outputs": [
    {
     "name": "stdout",
     "output_type": "stream",
     "text": [
      "5\n",
      "16\n",
      "8\n",
      "4\n",
      "2\n",
      "1\n"
     ]
    }
   ],
   "source": [
    "def collatz(number):\n",
    "\n",
    "    if number % 2 == 0:\n",
    "        print(number // 2)\n",
    "        return number // 2\n",
    "\n",
    "    elif number % 2 == 1:\n",
    "        result = 3 * number + 1\n",
    "        print(result)\n",
    "        return result\n",
    "\n",
    "n = 10\n",
    "while n != 1:\n",
    "    n = collatz(int(n))"
   ]
  },
  {
   "cell_type": "markdown",
   "id": "a7cff7be",
   "metadata": {},
   "source": [
    "# Q5) Write a recursive method binary() that takes a non - negative integer n and prints the binary representation of integer n."
   ]
  },
  {
   "cell_type": "code",
   "execution_count": 7,
   "id": "a6f891c6",
   "metadata": {},
   "outputs": [
    {
     "name": "stdout",
     "output_type": "stream",
     "text": [
      "0\n",
      "1\n",
      "11\n",
      "1001\n"
     ]
    }
   ],
   "source": [
    "\n",
    "\n",
    "def binary(n):\n",
    "    if n < 2:\n",
    "        print(n)\n",
    "    else:\n",
    "        y = '{0:b}'.format(n)\n",
    "        print(y)\n",
    "binary(0)\n",
    "binary(1)\n",
    "binary(3)\n",
    "binary(9)"
   ]
  },
  {
   "cell_type": "markdown",
   "id": "7716770e",
   "metadata": {},
   "source": [
    "# Q6) Implement a class named HeadingParser that can be used to parse an HTML document, and retrieve and print all the headings in the document. "
   ]
  },
  {
   "cell_type": "code",
   "execution_count": 6,
   "id": "e77ba8cc",
   "metadata": {},
   "outputs": [
    {
     "name": "stdout",
     "output_type": "stream",
     "text": [
      "W3C Mission\n",
      "Principles\n"
     ]
    }
   ],
   "source": [
    "from html.parser import HTMLParser\n",
    "\n",
    "test_param = False\n",
    "count = 0\n",
    "\n",
    "def space_generator(count):\n",
    "    space_str = \"\"\n",
    "    for i in range (0,count):\n",
    "        space_str += \"\"\n",
    "    return space_str\n",
    "\n",
    "class HeadingParser(HTMLParser):\n",
    "    def handle_starttag(self,tag,data):\n",
    "        global test_param\n",
    "        if tag in ['h1','h2']:\n",
    "            test_param = True\n",
    "    def handle_data(self,data):\n",
    "        global test_param\n",
    "        global count\n",
    "        if test_param == True:\n",
    "            test_param = False\n",
    "            modified_data = space_generator(count) + data\n",
    "            print(modified_data)\n",
    "            count += 1\n",
    "\n",
    "            \n",
    "infile = open (\"/Volumes/WD SAIPRANA/Course Files/Data Programming/w3c.html\")\n",
    "content = infile.read()\n",
    "infile.close()\n",
    "hp = HeadingParser()\n",
    "hp.feed(content)\n"
   ]
  },
  {
   "cell_type": "markdown",
   "id": "91fe47ca",
   "metadata": {},
   "source": [
    "# Q7) Implement recursive function webdir() that takes as input: a URL (as a string) and non-negative integers depth and indent."
   ]
  },
  {
   "cell_type": "code",
   "execution_count": 4,
   "id": "82ff795b",
   "metadata": {},
   "outputs": [
    {
     "name": "stdout",
     "output_type": "stream",
     "text": [
      "https://reed.cs.depaul.edu/lperkovic/test1.html  \n",
      "https://reed.cs.depaul.edu/lperkovic/test1.html \n",
      " https://reed.cs.depaul.edu/lperkovic/test1.html \n",
      "https://reed.cs.depaul.edu/lperkovic/test1.html \n"
     ]
    }
   ],
   "source": [
    "def webdir(s,num, indent):\n",
    "    \n",
    "    if(num > 0):\n",
    "        webdir(s,indent, num//2);\n",
    "        print(\" \"*indent + \"\" + s + \" \"*num);\n",
    "        webdir(s,indent + num//2, num//2)\n",
    "        \n",
    "webdir(\"https://reed.cs.depaul.edu/lperkovic/test1.html\", 2, 0)"
   ]
  },
  {
   "cell_type": "markdown",
   "id": "6898e8d4",
   "metadata": {},
   "source": [
    "# Q8 Write SQL queries"
   ]
  },
  {
   "cell_type": "code",
   "execution_count": 35,
   "id": "34b86754",
   "metadata": {},
   "outputs": [
    {
     "ename": "SyntaxError",
     "evalue": "invalid syntax (2993366079.py, line 2)",
     "output_type": "error",
     "traceback": [
      "\u001b[1;36m  Input \u001b[1;32mIn [35]\u001b[1;36m\u001b[0m\n\u001b[1;33m    SELECT temperature from table_name\u001b[0m\n\u001b[1;37m           ^\u001b[0m\n\u001b[1;31mSyntaxError\u001b[0m\u001b[1;31m:\u001b[0m invalid syntax\n"
     ]
    }
   ],
   "source": [
    "#A) All temperature data\n",
    "SELECT temperature from table_name\n",
    "\n",
    "#B)\n",
    "SELECT distinct city from table_name\n",
    "\n",
    "#C0\n",
    "SELECT * from table_name where country='India'\n",
    "\n",
    "#d)\n",
    "SELECT rainfall from table_name\n",
    "\n",
    "#e)\n",
    "SELECT city,county,season from tbale_name where raindall betweeb 200 and 400\n",
    "\n",
    "#f)\n",
    "SELECT city, country from table_name where tenoeratyre > 20 order by temperature\n",
    "\n",
    "#g)\n",
    "SELECT sum(rainfall) from table_name where city='Cairo'\n",
    "\n",
    "#h)\n",
    "SELECT season,sum(rainfall) from table_name group by season"
   ]
  },
  {
   "cell_type": "markdown",
   "id": "3e7a6d19",
   "metadata": {},
   "source": [
    "# Q9 Write list comprehension expressions that use list words and generate the following lists"
   ]
  },
  {
   "cell_type": "code",
   "execution_count": 36,
   "id": "ea548d39",
   "metadata": {},
   "outputs": [
    {
     "name": "stdout",
     "output_type": "stream",
     "text": [
      "['THE', 'QUICK', 'BROWN', 'FOX', 'JUMPS', 'OVER', 'THE', 'LAZY', 'DOG']\n"
     ]
    }
   ],
   "source": [
    "#9A)\n",
    "words = [\"The\",\"quick\",\"brown\",\"fox\",\"jumps\",\"over\",\"the\",\"lazy\",\"dog\"]\n",
    "words = [string.upper() for string in words]\n",
    "print(words)"
   ]
  },
  {
   "cell_type": "code",
   "execution_count": 39,
   "id": "f9ba7853",
   "metadata": {},
   "outputs": [
    {
     "name": "stdout",
     "output_type": "stream",
     "text": [
      "['the', 'quick', 'brown', 'fox', 'jumps', 'over', 'the', 'lazy', 'dog']\n"
     ]
    }
   ],
   "source": [
    "#9B)\n",
    "words = [\"The\",\"quick\",\"brown\",\"fox\",\"jumps\",\"over\",\"the\",\"lazy\",\"dog\"]\n",
    "words = [string.lower() for string in words]\n",
    "print(words)"
   ]
  },
  {
   "cell_type": "code",
   "execution_count": 42,
   "id": "70a332fd",
   "metadata": {},
   "outputs": [
    {
     "name": "stdout",
     "output_type": "stream",
     "text": [
      "Total numbers in List are:  9\n"
     ]
    }
   ],
   "source": [
    "#9C)\n",
    "numbers = [3, 5, 5, 3, 5, 4, 3, 4, 3]\n",
    "print(\"Total numbers in List are: \", len(numbers))"
   ]
  },
  {
   "cell_type": "code",
   "execution_count": 44,
   "id": "284db246",
   "metadata": {},
   "outputs": [
    {
     "name": "stdout",
     "output_type": "stream",
     "text": [
      "['quick', 'brown', 'jumps', 'over', 'lazy']\n"
     ]
    }
   ],
   "source": [
    "#9E)\n",
    "words = [\"The\",\"quick\",\"brown\",\"fox\",\"jumps\",\"over\",\"the\",\"lazy\",\"dog\"]\n",
    "words1 = [word for word in words if len(word) >= 4]\n",
    "print(words1)"
   ]
  },
  {
   "cell_type": "code",
   "execution_count": null,
   "id": "44814b5d",
   "metadata": {},
   "outputs": [],
   "source": []
  }
 ],
 "metadata": {
  "kernelspec": {
   "display_name": "Python 3 (ipykernel)",
   "language": "python",
   "name": "python3"
  },
  "language_info": {
   "codemirror_mode": {
    "name": "ipython",
    "version": 3
   },
   "file_extension": ".py",
   "mimetype": "text/x-python",
   "name": "python",
   "nbconvert_exporter": "python",
   "pygments_lexer": "ipython3",
   "version": "3.9.12"
  }
 },
 "nbformat": 4,
 "nbformat_minor": 5
}
